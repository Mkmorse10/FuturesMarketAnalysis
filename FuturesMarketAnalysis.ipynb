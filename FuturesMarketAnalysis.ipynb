{
 "cells": [
  {
   "cell_type": "markdown",
   "metadata": {},
   "source": [
    "## Stock Market Analysis"
   ]
  },
  {
   "cell_type": "code",
   "execution_count": 1,
   "metadata": {},
   "outputs": [],
   "source": [
    "# For Data Processing\n",
    "import numpy as np\n",
    "import pandas as pd\n",
    "from pandas import Series, DataFrame\n",
    "\n",
    "# Data Visualization\n",
    "import matplotlib.pyplot as plt\n",
    "import seaborn as sns\n",
    "sns.set_style('whitegrid')\n",
    "get_ipython().magic('matplotlib inline')"
   ]
  },
  {
   "cell_type": "code",
   "execution_count": 2,
   "metadata": {},
   "outputs": [],
   "source": [
    "df = pd.read_csv(\"C:/Users/Mikayla/Desktop/Test.csv\", index_col = 0, parse_dates=True)"
   ]
  },
  {
   "cell_type": "code",
   "execution_count": 3,
   "metadata": {},
   "outputs": [
    {
     "data": {
      "text/html": [
       "<div>\n",
       "<style scoped>\n",
       "    .dataframe tbody tr th:only-of-type {\n",
       "        vertical-align: middle;\n",
       "    }\n",
       "\n",
       "    .dataframe tbody tr th {\n",
       "        vertical-align: top;\n",
       "    }\n",
       "\n",
       "    .dataframe thead th {\n",
       "        text-align: right;\n",
       "    }\n",
       "</style>\n",
       "<table border=\"1\" class=\"dataframe\">\n",
       "  <thead>\n",
       "    <tr style=\"text-align: right;\">\n",
       "      <th></th>\n",
       "      <th>Time</th>\n",
       "      <th>Open</th>\n",
       "      <th>High</th>\n",
       "      <th>Low</th>\n",
       "      <th>Close</th>\n",
       "      <th>Up</th>\n",
       "      <th>Down</th>\n",
       "    </tr>\n",
       "    <tr>\n",
       "      <th>Date</th>\n",
       "      <th></th>\n",
       "      <th></th>\n",
       "      <th></th>\n",
       "      <th></th>\n",
       "      <th></th>\n",
       "      <th></th>\n",
       "      <th></th>\n",
       "    </tr>\n",
       "  </thead>\n",
       "  <tbody>\n",
       "    <tr>\n",
       "      <th>2002-11-04</th>\n",
       "      <td>11:20</td>\n",
       "      <td>-80.00</td>\n",
       "      <td>-78.75</td>\n",
       "      <td>-81.50</td>\n",
       "      <td>-78.75</td>\n",
       "      <td>268</td>\n",
       "      <td>259</td>\n",
       "    </tr>\n",
       "    <tr>\n",
       "      <th>2002-11-05</th>\n",
       "      <td>11:20</td>\n",
       "      <td>-75.25</td>\n",
       "      <td>-72.75</td>\n",
       "      <td>-75.25</td>\n",
       "      <td>-74.75</td>\n",
       "      <td>702</td>\n",
       "      <td>491</td>\n",
       "    </tr>\n",
       "    <tr>\n",
       "      <th>2002-11-06</th>\n",
       "      <td>11:20</td>\n",
       "      <td>-75.25</td>\n",
       "      <td>-74.00</td>\n",
       "      <td>-75.50</td>\n",
       "      <td>-74.00</td>\n",
       "      <td>290</td>\n",
       "      <td>935</td>\n",
       "    </tr>\n",
       "    <tr>\n",
       "      <th>2002-11-07</th>\n",
       "      <td>11:20</td>\n",
       "      <td>-71.75</td>\n",
       "      <td>-69.50</td>\n",
       "      <td>-72.00</td>\n",
       "      <td>-70.75</td>\n",
       "      <td>731</td>\n",
       "      <td>306</td>\n",
       "    </tr>\n",
       "    <tr>\n",
       "      <th>2002-11-08</th>\n",
       "      <td>11:20</td>\n",
       "      <td>-80.00</td>\n",
       "      <td>-79.50</td>\n",
       "      <td>-81.25</td>\n",
       "      <td>-81.00</td>\n",
       "      <td>189</td>\n",
       "      <td>267</td>\n",
       "    </tr>\n",
       "  </tbody>\n",
       "</table>\n",
       "</div>"
      ],
      "text/plain": [
       "             Time   Open   High    Low  Close   Up  Down\n",
       "Date                                                    \n",
       "2002-11-04  11:20 -80.00 -78.75 -81.50 -78.75  268   259\n",
       "2002-11-05  11:20 -75.25 -72.75 -75.25 -74.75  702   491\n",
       "2002-11-06  11:20 -75.25 -74.00 -75.50 -74.00  290   935\n",
       "2002-11-07  11:20 -71.75 -69.50 -72.00 -70.75  731   306\n",
       "2002-11-08  11:20 -80.00 -79.50 -81.25 -81.00  189   267"
      ]
     },
     "execution_count": 3,
     "metadata": {},
     "output_type": "execute_result"
    }
   ],
   "source": [
    "df.head()"
   ]
  },
  {
   "cell_type": "code",
   "execution_count": 4,
   "metadata": {},
   "outputs": [
    {
     "data": {
      "text/html": [
       "<div>\n",
       "<style scoped>\n",
       "    .dataframe tbody tr th:only-of-type {\n",
       "        vertical-align: middle;\n",
       "    }\n",
       "\n",
       "    .dataframe tbody tr th {\n",
       "        vertical-align: top;\n",
       "    }\n",
       "\n",
       "    .dataframe thead th {\n",
       "        text-align: right;\n",
       "    }\n",
       "</style>\n",
       "<table border=\"1\" class=\"dataframe\">\n",
       "  <thead>\n",
       "    <tr style=\"text-align: right;\">\n",
       "      <th></th>\n",
       "      <th>Open</th>\n",
       "      <th>High</th>\n",
       "      <th>Low</th>\n",
       "      <th>Close</th>\n",
       "      <th>Up</th>\n",
       "      <th>Down</th>\n",
       "    </tr>\n",
       "  </thead>\n",
       "  <tbody>\n",
       "    <tr>\n",
       "      <th>count</th>\n",
       "      <td>4435.000000</td>\n",
       "      <td>4435.000000</td>\n",
       "      <td>4435.000000</td>\n",
       "      <td>4435.000000</td>\n",
       "      <td>4435.000000</td>\n",
       "      <td>4435.000000</td>\n",
       "    </tr>\n",
       "    <tr>\n",
       "      <th>mean</th>\n",
       "      <td>719.138726</td>\n",
       "      <td>728.505975</td>\n",
       "      <td>710.349662</td>\n",
       "      <td>719.175648</td>\n",
       "      <td>23988.548591</td>\n",
       "      <td>24132.639233</td>\n",
       "    </tr>\n",
       "    <tr>\n",
       "      <th>std</th>\n",
       "      <td>466.494150</td>\n",
       "      <td>468.494152</td>\n",
       "      <td>464.510704</td>\n",
       "      <td>466.366302</td>\n",
       "      <td>18690.561922</td>\n",
       "      <td>18720.265268</td>\n",
       "    </tr>\n",
       "    <tr>\n",
       "      <th>min</th>\n",
       "      <td>-105.500000</td>\n",
       "      <td>-103.250000</td>\n",
       "      <td>-105.750000</td>\n",
       "      <td>-105.750000</td>\n",
       "      <td>0.000000</td>\n",
       "      <td>0.000000</td>\n",
       "    </tr>\n",
       "    <tr>\n",
       "      <th>25%</th>\n",
       "      <td>209.500000</td>\n",
       "      <td>219.375000</td>\n",
       "      <td>199.250000</td>\n",
       "      <td>209.375000</td>\n",
       "      <td>3627.500000</td>\n",
       "      <td>3791.000000</td>\n",
       "    </tr>\n",
       "    <tr>\n",
       "      <th>50%</th>\n",
       "      <td>890.500000</td>\n",
       "      <td>900.250000</td>\n",
       "      <td>881.000000</td>\n",
       "      <td>891.250000</td>\n",
       "      <td>25456.000000</td>\n",
       "      <td>25846.000000</td>\n",
       "    </tr>\n",
       "    <tr>\n",
       "      <th>75%</th>\n",
       "      <td>1139.500000</td>\n",
       "      <td>1147.375000</td>\n",
       "      <td>1132.500000</td>\n",
       "      <td>1139.250000</td>\n",
       "      <td>35811.500000</td>\n",
       "      <td>36202.500000</td>\n",
       "    </tr>\n",
       "    <tr>\n",
       "      <th>max</th>\n",
       "      <td>1536.500000</td>\n",
       "      <td>1554.250000</td>\n",
       "      <td>1529.750000</td>\n",
       "      <td>1535.000000</td>\n",
       "      <td>136227.000000</td>\n",
       "      <td>124512.000000</td>\n",
       "    </tr>\n",
       "  </tbody>\n",
       "</table>\n",
       "</div>"
      ],
      "text/plain": [
       "              Open         High          Low        Close             Up  \\\n",
       "count  4435.000000  4435.000000  4435.000000  4435.000000    4435.000000   \n",
       "mean    719.138726   728.505975   710.349662   719.175648   23988.548591   \n",
       "std     466.494150   468.494152   464.510704   466.366302   18690.561922   \n",
       "min    -105.500000  -103.250000  -105.750000  -105.750000       0.000000   \n",
       "25%     209.500000   219.375000   199.250000   209.375000    3627.500000   \n",
       "50%     890.500000   900.250000   881.000000   891.250000   25456.000000   \n",
       "75%    1139.500000  1147.375000  1132.500000  1139.250000   35811.500000   \n",
       "max    1536.500000  1554.250000  1529.750000  1535.000000  136227.000000   \n",
       "\n",
       "                Down  \n",
       "count    4435.000000  \n",
       "mean    24132.639233  \n",
       "std     18720.265268  \n",
       "min         0.000000  \n",
       "25%      3791.000000  \n",
       "50%     25846.000000  \n",
       "75%     36202.500000  \n",
       "max    124512.000000  "
      ]
     },
     "execution_count": 4,
     "metadata": {},
     "output_type": "execute_result"
    }
   ],
   "source": [
    "# Summery stats for SoyBeans Futures\n",
    "df.describe()"
   ]
  },
  {
   "cell_type": "code",
   "execution_count": 5,
   "metadata": {},
   "outputs": [
    {
     "name": "stdout",
     "output_type": "stream",
     "text": [
      "<class 'pandas.core.frame.DataFrame'>\n",
      "DatetimeIndex: 4435 entries, 2002-11-04 to 2020-07-23\n",
      "Data columns (total 7 columns):\n",
      " #   Column  Non-Null Count  Dtype  \n",
      "---  ------  --------------  -----  \n",
      " 0   Time    4435 non-null   object \n",
      " 1   Open    4435 non-null   float64\n",
      " 2   High    4435 non-null   float64\n",
      " 3   Low     4435 non-null   float64\n",
      " 4   Close   4435 non-null   float64\n",
      " 5   Up      4435 non-null   int64  \n",
      " 6   Down    4435 non-null   int64  \n",
      "dtypes: float64(4), int64(2), object(1)\n",
      "memory usage: 277.2+ KB\n"
     ]
    }
   ],
   "source": [
    "# General Info\n",
    "df.info()"
   ]
  },
  {
   "cell_type": "code",
   "execution_count": 6,
   "metadata": {},
   "outputs": [],
   "source": [
    "# We'll use pct_change to find the percent change for each day\n",
    "df['Daily Return'] = df['Close'].pct_change()\n",
    "df.dropna(inplace=True)"
   ]
  },
  {
   "cell_type": "code",
   "execution_count": 7,
   "metadata": {},
   "outputs": [
    {
     "data": {
      "text/plain": [
       "<matplotlib.axes._subplots.AxesSubplot at 0x23f2be67c88>"
      ]
     },
     "execution_count": 7,
     "metadata": {},
     "output_type": "execute_result"
    },
    {
     "data": {
      "image/png": "[encoded data removed]",
      "text/plain": [
       "<Figure size 1440x720 with 1 Axes>"
      ]
     },
     "metadata": {
      "needs_background": "light"
     },
     "output_type": "display_data"
    }
   ],
   "source": [
    "# Lets plot the daily return percentage\n",
    "df['Daily Return'].plot(figsize=(20,10), legend=True, linestyle='--', marker='o')"
   ]
  },
  {
   "cell_type": "code",
   "execution_count": 8,
   "metadata": {},
   "outputs": [
    {
     "data": {
      "text/plain": [
       "<matplotlib.axes._subplots.AxesSubplot at 0x23f2bf96188>"
      ]
     },
     "execution_count": 8,
     "metadata": {},
     "output_type": "execute_result"
    },
    {
     "data": {
      "image/png": "[encoded data removed]",
      "text/plain": [
       "<Figure size 432x288 with 1 Axes>"
      ]
     },
     "metadata": {
      "needs_background": "light"
     },
     "output_type": "display_data"
    }
   ],
   "source": [
    "# only with histogram\n",
    "df['Daily Return'].hist(bins=100)"
   ]
  },
  {
   "cell_type": "code",
   "execution_count": 9,
   "metadata": {},
   "outputs": [
    {
     "data": {
      "text/plain": [
       "<matplotlib.axes._subplots.AxesSubplot at 0x23f2c199288>"
      ]
     },
     "execution_count": 9,
     "metadata": {},
     "output_type": "execute_result"
    },
    {
     "data": {
      "image/png": "[encoded data removed]",
      "text/plain": [
       "<Figure size 432x288 with 1 Axes>"
      ]
     },
     "metadata": {
      "needs_background": "light"
     },
     "output_type": "display_data"
    }
   ],
   "source": [
    "# Note the use of dropna() here, otherwise the NaN values can't be read by seaborn\n",
    "sns.distplot(df['Daily Return'].dropna(), bins=100, color='magenta')"
   ]
  },
  {
   "cell_type": "code",
   "execution_count": 10,
   "metadata": {},
   "outputs": [
    {
     "data": {
      "text/plain": [
       "-0.103"
      ]
     },
     "execution_count": 10,
     "metadata": {},
     "output_type": "execute_result"
    }
   ],
   "source": [
    "# The 0.05 empirical quantile of daily returns is at -0.021. \n",
    "#That means that with 95% confidence, our worst daily loss will not exceed 2.1%. \n",
    "#If we have a 1 million dollar investment, our one-day 5% VaR is 0.021* 1,000,000 = $21,000.\n",
    "\n",
    "round(df[\"Daily Return\"].quantile(0.05),3)"
   ]
  },
  {
   "cell_type": "code",
   "execution_count": 11,
   "metadata": {},
   "outputs": [],
   "source": [
    "# #### Value at Risk using the Monte Carlo method\n",
    "#Using the Monte Carlo to run many trials with random market conditions, \n",
    "#then we'll calculate portfolio losses for each trial. After this, we'll use the \n",
    "#aggregation of all these simulations to establish how risky the stock/assest is.\n",
    "# \n",
    "# Let's start with a brief explanation of what we're going to do:\n",
    "# \n",
    "# We will use the geometric Brownian motion (GBM), which is technically known as a Markov process. \n",
    "#This means that the stock price follows a random walk and is consistent with (at the very least) the weak \n",
    "#form of the efficient market hypothesis (EMH): past price information is already incorporated \n",
    "#and the next price movement is \"conditionally independent\" of past price movements.\n",
    "# \n",
    "# This means that the past information on the price of a stock is independent of where the stock price will \n",
    "#be in the future, basically meaning, you can't perfectly predict the future solely based on the \n",
    "#previous price of a stock.\n",
    "# \n",
    "\n",
    "# Now we see that the change in the stock price is the current stock price multiplied by two terms. \n",
    "#The first term is known as \"drift\", which is the average daily return multiplied by the change of time. \n",
    "#The second term is known as \"shock\", for each time period the stock will \"drift\" and then experience a \n",
    "#\"shock\" which will randomly push the stock price up or down. By simulating this series of steps of \n",
    "#drift and shock thousands of times, we can begin to do a simulation of where we might expect the stock price to be.\n",
    "# \n",
    "# For more info on the Monte Carlo method for stocks and simulating stock prices with GBM model i\n",
    "#e. geometric Brownian motion (GBM).\n",
    "# \n",
    "# check out the following link: http://www.investopedia.com/articles/07/montecarlo.asp\n",
    "\n",
    "# To demonstrate a basic Monte Carlo method, we will start with just a few simulations. \n",
    "#First we'll define the variables we'll be using in the Soy Beans Future market\n",
    "# "
   ]
  },
  {
   "cell_type": "code",
   "execution_count": 12,
   "metadata": {},
   "outputs": [],
   "source": [
    "# Set up our time horizon\n",
    "days = 252\n",
    "\n",
    "# Now our delta\n",
    "dt = 1/days\n",
    "\n",
    "# Now let's grab our mu (drift) from the expected return data we got from SoyBeans \n",
    "mu = df[\"Daily Return\"].mean()\n",
    "\n",
    "# Now let's grab the volatility of the stock from the std() of the average return from the SoyBeans\n",
    "sigma = df[\"Daily Return\"].std()"
   ]
  },
  {
   "cell_type": "code",
   "execution_count": 13,
   "metadata": {},
   "outputs": [],
   "source": [
    "def stock_monte_carlo(start_price,days,mu,sigma):\n",
    "    ''' This function takes in starting stock price, days of simulation,mu,sigma, and returns simulated price array'''\n",
    "    \n",
    "    # Define a price array\n",
    "    price = np.zeros(days)\n",
    "    price[0] = start_price\n",
    "    \n",
    "    # Schock and Drift\n",
    "    shock = np.zeros(days)\n",
    "    drift = np.zeros(days)\n",
    "    \n",
    "    # Run price array for number of days\n",
    "    for x in range(1,days):\n",
    "        \n",
    "        # Calculate Schock\n",
    "        shock[x] = np.random.normal(loc=mu * dt, scale=sigma * np.sqrt(dt))\n",
    "        # Calculate Drift\n",
    "        drift[x] = mu * dt\n",
    "        # Calculate Price\n",
    "        price[x] = price[x-1] + (price[x-1] * (drift[x] + shock[x]))\n",
    "        \n",
    "    return price"
   ]
  },
  {
   "cell_type": "code",
   "execution_count": 14,
   "metadata": {},
   "outputs": [
    {
     "data": {
      "text/plain": [
       "Text(0.5, 1.0, 'Final price distribution for SoyBeans after 252 days')"
      ]
     },
     "execution_count": 14,
     "metadata": {},
     "output_type": "execute_result"
    },
    {
     "name": "stderr",
     "output_type": "stream",
     "text": [
      "C:\\Users\\Mikayla\\anaconda3.1\\lib\\site-packages\\IPython\\core\\pylabtools.py:132: MatplotlibDeprecationWarning: Support for uppercase single-letter colors is deprecated since Matplotlib 3.1 and will be removed in 3.3; please use lowercase instead.\n",
      "  fig.canvas.print_figure(bytes_io, **kw)\n"
     ]
    },
    {
     "data": {
      "image/png": "[encoded data removed]",
      "text/plain": [
       "<Figure size 432x288 with 1 Axes>"
      ]
     },
     "metadata": {
      "needs_background": "light"
     },
     "output_type": "display_data"
    }
   ],
   "source": [
    "# Lets start with Soy Bean Futures Contracts\n",
    "start_price = -81.50\n",
    "\n",
    "# Set a large numebr of runs\n",
    "runs = 10000\n",
    "\n",
    "# Create an empty matrix to hold the end price data\n",
    "simulations = np.zeros(runs)\n",
    "\n",
    "for run in range(runs):    \n",
    "    # Set the simulation data point as the last stock price for that run\n",
    "    simulations[run] = stock_monte_carlo(start_price,days,mu,sigma)[days-1]\n",
    "\n",
    "\n",
    "# Now that we have our array of simulations, we can go ahead and plot a histogram ,as well as use qunatile to define our risk for this stock.\n",
    "# \n",
    "# For more info on quantiles, check out this link: http://en.wikipedia.org/wiki/Quantile\n",
    "\n",
    "# In[54]:\n",
    "\n",
    "\n",
    "\n",
    "# Now we'll define q as the 1% empirical quantile, this basically means that 99% of the values should \n",
    "#fall between here\n",
    "q = np.percentile(simulations,1)\n",
    "\n",
    "# Now let's plot the distribution of the end prices\n",
    "plt.hist(simulations, bins=200)\n",
    "\n",
    "# Using plt.figtext to fill in some additional information onto the plot\n",
    "\n",
    "# starting price\n",
    "plt.figtext(0.6,0.8, s='Start Price: $%.2f' % start_price)\n",
    "\n",
    "# mean ending price\n",
    "plt.figtext(0.6,0.7, s='Mean Final Price: $%.2f' % simulations.mean())\n",
    "\n",
    "# Variance of the price (within 99% confidence interval)\n",
    "plt.figtext(0.6,0.6, s='VaR(0.99): $%.2f' % (start_price - q))\n",
    "\n",
    "# To display 1% quantile\n",
    "plt.figtext(0.15, 0.6, s=\"q(0.99): $%.2f\" % q)\n",
    "\n",
    "# Plot a line at the 1% quantile result\n",
    "plt.axvline(x=q, linewidth=4, color='r')\n",
    "\n",
    "# For plot title\n",
    "plt.title(label=\"Final price distribution for SoyBeans after %s days\"% days, weight='bold', color='Y')"
   ]
  },
  {
   "cell_type": "code",
   "execution_count": null,
   "metadata": {},
   "outputs": [],
   "source": []
  }
 ],
 "metadata": {
  "kernelspec": {
   "display_name": "Python 3",
   "language": "python",
   "name": "python3"
  },
  "language_info": {
   "codemirror_mode": {
    "name": "ipython",
    "version": 3
   },
   "file_extension": ".py",
   "mimetype": "text/x-python",
   "name": "python",
   "nbconvert_exporter": "python",
   "pygments_lexer": "ipython3",
   "version": "3.7.6"
  }
 },
 "nbformat": 4,
 "nbformat_minor": 4
}
